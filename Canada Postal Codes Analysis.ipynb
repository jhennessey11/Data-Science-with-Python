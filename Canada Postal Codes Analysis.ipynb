{
    "cells": [
        {
            "cell_type": "code",
            "execution_count": 5,
            "metadata": {},
            "outputs": [],
            "source": "#import libraries\nimport pandas as pd\nimport numpy as np\nimport bs4 as soup\nimport html5lib, lxml\n\n#web scrape html\npost_codes = pd.read_html('https://en.wikipedia.org/wiki/List_of_postal_codes_of_Canada:_M')\n\n#clean data\ndf_codes = pd.DataFrame(post_codes[0]) #save correct table to df\ndf_codes = df_codes.replace('Not assigned', np.nan) #replace 'Not assigned' with true NaN value\ndf_codes.dropna(subset=['Borough'], axis=0, inplace=True) #drop all rows with NaN value in the Borough column\n\ngeo_data = pd.read_csv('https://cocl.us/Geospatial_data')\n\nmerged_df = df_codes.merge(geo_data, how='outer')"
        },
        {
            "cell_type": "code",
            "execution_count": null,
            "metadata": {},
            "outputs": [],
            "source": ""
        }
    ],
    "metadata": {
        "kernelspec": {
            "display_name": "Python 3.6",
            "language": "python",
            "name": "python3"
        },
        "language_info": {
            "codemirror_mode": {
                "name": "ipython",
                "version": 3
            },
            "file_extension": ".py",
            "mimetype": "text/x-python",
            "name": "python",
            "nbconvert_exporter": "python",
            "pygments_lexer": "ipython3",
            "version": "3.6.9"
        }
    },
    "nbformat": 4,
    "nbformat_minor": 1
}